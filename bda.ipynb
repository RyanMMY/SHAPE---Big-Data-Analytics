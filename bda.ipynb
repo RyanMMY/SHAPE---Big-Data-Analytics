{
 "cells": [
  {
   "cell_type": "code",
   "execution_count": 95,
   "metadata": {},
   "outputs": [
    {
     "name": "stderr",
     "output_type": "stream",
     "text": [
      "[WDM] - ====== WebDriver manager ======\n",
      "[WDM] - Current google-chrome version is 89.0.4389\n",
      "[WDM] - Get LATEST driver version for 89.0.4389\n"
     ]
    },
    {
     "name": "stdout",
     "output_type": "stream",
     "text": [
      "\n",
      "\n"
     ]
    },
    {
     "name": "stderr",
     "output_type": "stream",
     "text": [
      "[WDM] - Get LATEST driver version for 89.0.4389\n",
      "[WDM] - Trying to download new driver from https://chromedriver.storage.googleapis.com/89.0.4389.23/chromedriver_win32.zip\n",
      "[WDM] - Driver has been saved in cache [C:\\Users\\aaa\\.wdm\\drivers\\chromedriver\\win32\\89.0.4389.23]\n"
     ]
    }
   ],
   "source": [
    "from selenium import webdriver\n",
    "from bs4 import BeautifulSoup\n",
    "from webdriver_manager.chrome import ChromeDriverManager\n",
    "\n",
    "url = 'https://hk.centanet.com/findproperty/list/buy?q=fSLmBaTXIkG9hgk4nzQWQ'\n",
    "\n",
    "driver = webdriver.Chrome(ChromeDriverManager().install())\n",
    "\n",
    "driver.get(url)\n",
    "\n",
    "driver.implicitly_wait(5)"
   ]
  },
  {
   "cell_type": "code",
   "execution_count": 101,
   "metadata": {},
   "outputs": [],
   "source": [
    "from bs4 import BeautifulSoup\n",
    "soup = BeautifulSoup(driver.page_source, 'lxml')"
   ]
  },
  {
   "cell_type": "code",
   "execution_count": 102,
   "metadata": {},
   "outputs": [],
   "source": [
    "def nextpage(driver):\n",
    "    pages = driver.find_element_by_tag_name('.el-icon-arrow-right')\n",
    "\n",
    "    driver.execute_script(\"arguments[0].click();\", pages)"
   ]
  },
  {
   "cell_type": "code",
   "execution_count": 103,
   "metadata": {},
   "outputs": [],
   "source": [
    "import pandas as pd\n",
    "\n",
    "results = soup.find_all('a', class_ = 'property-text list')\n",
    "l=[]\n",
    "\n",
    "\n",
    "for i in range(1, 2):\n",
    "    nextpage(driver)\n",
    "    \n",
    "    for result in results:\n",
    "        a = result.find('div', class_ = 'title').getText()\n",
    "        b = result.find('span', class_ = 'title-sm').getText()\n",
    "        c = result.find('div', class_ = 'adress tag-adress').getText()\n",
    "        d = result.find('div', class_ = 'adress hidden-xs-only floor-info').getText()\n",
    "        e = result.find('div', class_ = 'num').getText()\n",
    "        f = result.find('div', class_ = 'right-warpper').getText()\n",
    "        row = [result for result in (a, b, c, d, e, f)]\n",
    "        l.append(row)\n",
    "\n",
    "df = pd.DataFrame(l, columns=[\"a\", \"b\", \"c\", \"d\", \"e\", \"f\"])"
   ]
  },
  {
   "cell_type": "code",
   "execution_count": 104,
   "metadata": {
    "scrolled": true
   },
   "outputs": [
    {
     "data": {
      "text/html": [
       "<div>\n",
       "<style scoped>\n",
       "    .dataframe tbody tr th:only-of-type {\n",
       "        vertical-align: middle;\n",
       "    }\n",
       "\n",
       "    .dataframe tbody tr th {\n",
       "        vertical-align: top;\n",
       "    }\n",
       "\n",
       "    .dataframe thead th {\n",
       "        text-align: right;\n",
       "    }\n",
       "</style>\n",
       "<table border=\"1\" class=\"dataframe\">\n",
       "  <thead>\n",
       "    <tr style=\"text-align: right;\">\n",
       "      <th></th>\n",
       "      <th>a</th>\n",
       "      <th>b</th>\n",
       "      <th>c</th>\n",
       "      <th>d</th>\n",
       "      <th>e</th>\n",
       "      <th>f</th>\n",
       "    </tr>\n",
       "  </thead>\n",
       "  <tbody>\n",
       "    <tr>\n",
       "      <th>0</th>\n",
       "      <td>\\n      海堤灣畔 5座 2房\\n      中層 D室</td>\n",
       "      <td>中層 D室</td>\n",
       "      <td>東涌市中心</td>\n",
       "      <td>\\n                19年樓齡\\n               \\n    ...</td>\n",
       "      <td>\\n                      508呎\\n                ...</td>\n",
       "      <td>售 $ 750萬  \\n              月供 $17,780・計算按揭\\n ...</td>\n",
       "    </tr>\n",
       "    <tr>\n",
       "      <th>1</th>\n",
       "      <td>\\n      屯門市廣場 1期 4座 \\n      高層 F室</td>\n",
       "      <td>高層 F室</td>\n",
       "      <td>屯門市中心</td>\n",
       "      <td>\\n                33年樓齡\\n               \\n    ...</td>\n",
       "      <td>\\n                      392呎\\n                ...</td>\n",
       "      <td>售 $ 468萬  \\n              月供 $11,094・計算按揭\\n ...</td>\n",
       "    </tr>\n",
       "    <tr>\n",
       "      <th>2</th>\n",
       "      <td>\\n      東環 2期 1B座 3房 1套\\n      低層 2室</td>\n",
       "      <td>低層 2室</td>\n",
       "      <td>東涌市中心</td>\n",
       "      <td>\\n                4年樓齡\\n</td>\n",
       "      <td>\\n                      645呎\\n                ...</td>\n",
       "      <td>售 $ 840萬  \\n              月供 $19,914・計算按揭\\n ...</td>\n",
       "    </tr>\n",
       "    <tr>\n",
       "      <th>3</th>\n",
       "      <td>\\n      瓏門 1期 3座 2房\\n      中層 E室</td>\n",
       "      <td>中層 E室</td>\n",
       "      <td>屯門市中心</td>\n",
       "      <td>\\n                8年樓齡\\n               \\n     ...</td>\n",
       "      <td>\\n                      495呎\\n                ...</td>\n",
       "      <td>售 $ 700萬  \\n              月供 $16,595・計算按揭\\n ...</td>\n",
       "    </tr>\n",
       "    <tr>\n",
       "      <th>4</th>\n",
       "      <td>\\n      瓏門 1期 5座 2房\\n      高層 K室</td>\n",
       "      <td>高層 K室</td>\n",
       "      <td>屯門市中心</td>\n",
       "      <td>\\n                8年樓齡\\n               \\n     ...</td>\n",
       "      <td>\\n                      475呎\\n                ...</td>\n",
       "      <td>售 $ 700萬  \\n              月供 $16,595・計算按揭\\n ...</td>\n",
       "    </tr>\n",
       "  </tbody>\n",
       "</table>\n",
       "</div>"
      ],
      "text/plain": [
       "                                      a      b      c  \\\n",
       "0       \\n      海堤灣畔 5座 2房\\n      中層 D室  中層 D室  東涌市中心   \n",
       "1     \\n      屯門市廣場 1期 4座 \\n      高層 F室  高層 F室  屯門市中心   \n",
       "2  \\n      東環 2期 1B座 3房 1套\\n      低層 2室  低層 2室  東涌市中心   \n",
       "3      \\n      瓏門 1期 3座 2房\\n      中層 E室  中層 E室  屯門市中心   \n",
       "4      \\n      瓏門 1期 5座 2房\\n      高層 K室  高層 K室  屯門市中心   \n",
       "\n",
       "                                                   d  \\\n",
       "0  \\n                19年樓齡\\n               \\n    ...   \n",
       "1  \\n                33年樓齡\\n               \\n    ...   \n",
       "2         \\n                4年樓齡\\n                     \n",
       "3  \\n                8年樓齡\\n               \\n     ...   \n",
       "4  \\n                8年樓齡\\n               \\n     ...   \n",
       "\n",
       "                                                   e  \\\n",
       "0  \\n                      508呎\\n                ...   \n",
       "1  \\n                      392呎\\n                ...   \n",
       "2  \\n                      645呎\\n                ...   \n",
       "3  \\n                      495呎\\n                ...   \n",
       "4  \\n                      475呎\\n                ...   \n",
       "\n",
       "                                                   f  \n",
       "0    售 $ 750萬  \\n              月供 $17,780・計算按揭\\n ...  \n",
       "1    售 $ 468萬  \\n              月供 $11,094・計算按揭\\n ...  \n",
       "2    售 $ 840萬  \\n              月供 $19,914・計算按揭\\n ...  \n",
       "3    售 $ 700萬  \\n              月供 $16,595・計算按揭\\n ...  \n",
       "4    售 $ 700萬  \\n              月供 $16,595・計算按揭\\n ...  "
      ]
     },
     "execution_count": 104,
     "metadata": {},
     "output_type": "execute_result"
    }
   ],
   "source": [
    "df.head(5)"
   ]
  },
  {
   "cell_type": "code",
   "execution_count": 105,
   "metadata": {},
   "outputs": [],
   "source": [
    "#df.to_csv('DBA_centanet.csv')"
   ]
  },
  {
   "cell_type": "code",
   "execution_count": null,
   "metadata": {},
   "outputs": [],
   "source": []
  },
  {
   "cell_type": "code",
   "execution_count": 32,
   "metadata": {},
   "outputs": [],
   "source": [
    "import pandas as pd\n",
    "\n",
    "df = pd.read_csv('DBA_centanet.csv', encoding='utf-8')"
   ]
  },
  {
   "cell_type": "code",
   "execution_count": 33,
   "metadata": {},
   "outputs": [
    {
     "data": {
      "text/html": [
       "<div>\n",
       "<style scoped>\n",
       "    .dataframe tbody tr th:only-of-type {\n",
       "        vertical-align: middle;\n",
       "    }\n",
       "\n",
       "    .dataframe tbody tr th {\n",
       "        vertical-align: top;\n",
       "    }\n",
       "\n",
       "    .dataframe thead th {\n",
       "        text-align: right;\n",
       "    }\n",
       "</style>\n",
       "<table border=\"1\" class=\"dataframe\">\n",
       "  <thead>\n",
       "    <tr style=\"text-align: right;\">\n",
       "      <th></th>\n",
       "      <th>Unnamed: 0</th>\n",
       "      <th>a</th>\n",
       "      <th>b</th>\n",
       "      <th>c</th>\n",
       "      <th>d</th>\n",
       "      <th>e</th>\n",
       "      <th>f</th>\n",
       "    </tr>\n",
       "  </thead>\n",
       "  <tbody>\n",
       "    <tr>\n",
       "      <th>0</th>\n",
       "      <td>0</td>\n",
       "      <td>\\n      南浪海灣 1座 2房\\n      中層 D室</td>\n",
       "      <td>中層 D室</td>\n",
       "      <td>屯門南</td>\n",
       "      <td>\\n                20年樓齡\\n               \\n    ...</td>\n",
       "      <td>\\n                      522呎\\n                ...</td>\n",
       "      <td>售 $ 580萬  \\n              月供 $13,750・計算按揭\\n ...</td>\n",
       "    </tr>\n",
       "    <tr>\n",
       "      <th>1</th>\n",
       "      <td>1</td>\n",
       "      <td>\\n      康怡花園 C座 (9-16室) 3房\\n      低層 16室</td>\n",
       "      <td>低層 16室</td>\n",
       "      <td>康怡</td>\n",
       "      <td>\\n                34年樓齡\\n               \\n    ...</td>\n",
       "      <td>\\n                      594呎\\n                ...</td>\n",
       "      <td>售 $ 1,010萬  \\n              月供 $19,953・計算按揭\\...</td>\n",
       "    </tr>\n",
       "    <tr>\n",
       "      <th>2</th>\n",
       "      <td>2</td>\n",
       "      <td>\\n      蔚然 4房 2套\\n      低層 B室</td>\n",
       "      <td>低層 B室</td>\n",
       "      <td>西半山</td>\n",
       "      <td>\\n                8年樓齡\\n               \\n     ...</td>\n",
       "      <td>\\n                      1,589呎\\n              ...</td>\n",
       "      <td>$ 5,300萬 售 $ 4,700萬  \\n              月供 $92,...</td>\n",
       "    </tr>\n",
       "    <tr>\n",
       "      <th>3</th>\n",
       "      <td>3</td>\n",
       "      <td>\\n      麗城花園 3期 5座 4房 1套\\n      高層 C室</td>\n",
       "      <td>高層 C室</td>\n",
       "      <td>麗城</td>\n",
       "      <td>\\n                30年樓齡\\n               \\n    ...</td>\n",
       "      <td>\\n                      742呎\\n                ...</td>\n",
       "      <td>售 $ 920萬  \\n              月供 $21,810・計算按揭\\n ...</td>\n",
       "    </tr>\n",
       "    <tr>\n",
       "      <th>4</th>\n",
       "      <td>4</td>\n",
       "      <td>\\n      海怡半島 4 期 御庭園 御意居 (28座) 2房\\n      高層 B室</td>\n",
       "      <td>高層 B室</td>\n",
       "      <td>海怡</td>\n",
       "      <td>\\n                26年樓齡\\n               \\n    ...</td>\n",
       "      <td>\\n                      516呎\\n                ...</td>\n",
       "      <td>售 $ 930萬  \\n              月供 $22,047・計算按揭\\n ...</td>\n",
       "    </tr>\n",
       "    <tr>\n",
       "      <th>...</th>\n",
       "      <td>...</td>\n",
       "      <td>...</td>\n",
       "      <td>...</td>\n",
       "      <td>...</td>\n",
       "      <td>...</td>\n",
       "      <td>...</td>\n",
       "      <td>...</td>\n",
       "    </tr>\n",
       "    <tr>\n",
       "      <th>10000</th>\n",
       "      <td>10000</td>\n",
       "      <td>\\n      新元朗中心 3座 \\n      高層 F室</td>\n",
       "      <td>高層 F室</td>\n",
       "      <td>元朗站</td>\n",
       "      <td>\\n                27年樓齡\\n               \\n    ...</td>\n",
       "      <td>\\n                      466呎\\n                ...</td>\n",
       "      <td>售 $ 685萬  \\n              月供 $16,239・計算按揭\\n ...</td>\n",
       "    </tr>\n",
       "    <tr>\n",
       "      <th>10001</th>\n",
       "      <td>10001</td>\n",
       "      <td>\\n      維景灣畔 2期 7座 3房 1套\\n      高層 F室</td>\n",
       "      <td>高層 F室</td>\n",
       "      <td>調景嶺</td>\n",
       "      <td>\\n                19年樓齡\\n               \\n    ...</td>\n",
       "      <td>\\n                      660呎\\n                ...</td>\n",
       "      <td>售 $ 1,400萬  \\n              月供 $27,658・計算按揭\\...</td>\n",
       "    </tr>\n",
       "    <tr>\n",
       "      <th>10002</th>\n",
       "      <td>10002</td>\n",
       "      <td>\\n      海典居 3座 \\n      中層 A室</td>\n",
       "      <td>中層 A室</td>\n",
       "      <td>馬鞍山</td>\n",
       "      <td>\\n                22年樓齡\\n               \\n    ...</td>\n",
       "      <td>\\n                      954呎\\n                ...</td>\n",
       "      <td>售 $ 1,530萬  \\n              月供 $30,226・計算按揭\\...</td>\n",
       "    </tr>\n",
       "    <tr>\n",
       "      <th>10003</th>\n",
       "      <td>10003</td>\n",
       "      <td>\\n      屯門市廣場 2期 2座 2房\\n      中層 F室</td>\n",
       "      <td>中層 F室</td>\n",
       "      <td>屯門市中心</td>\n",
       "      <td>\\n                32年樓齡\\n               \\n    ...</td>\n",
       "      <td>\\n                      326呎\\n                ...</td>\n",
       "      <td>$ 450萬 售 $ 440萬  \\n              月供 $10,431・...</td>\n",
       "    </tr>\n",
       "    <tr>\n",
       "      <th>10004</th>\n",
       "      <td>10004</td>\n",
       "      <td>\\n      瓏門 1期 5座 2房\\n      高層 K室</td>\n",
       "      <td>高層 K室</td>\n",
       "      <td>屯門市中心</td>\n",
       "      <td>\\n                8年樓齡\\n               \\n     ...</td>\n",
       "      <td>\\n                      475呎\\n                ...</td>\n",
       "      <td>售 $ 700萬  \\n              月供 $16,595・計算按揭\\n ...</td>\n",
       "    </tr>\n",
       "  </tbody>\n",
       "</table>\n",
       "<p>10005 rows × 7 columns</p>\n",
       "</div>"
      ],
      "text/plain": [
       "       Unnamed: 0                                               a       b  \\\n",
       "0               0                 \\n      南浪海灣 1座 2房\\n      中層 D室   中層 D室   \n",
       "1               1        \\n      康怡花園 C座 (9-16室) 3房\\n      低層 16室  低層 16室   \n",
       "2               2                   \\n      蔚然 4房 2套\\n      低層 B室   低層 B室   \n",
       "3               3           \\n      麗城花園 3期 5座 4房 1套\\n      高層 C室   高層 C室   \n",
       "4               4  \\n      海怡半島 4 期 御庭園 御意居 (28座) 2房\\n      高層 B室   高層 B室   \n",
       "...           ...                                             ...     ...   \n",
       "10000       10000                  \\n      新元朗中心 3座 \\n      高層 F室   高層 F室   \n",
       "10001       10001           \\n      維景灣畔 2期 7座 3房 1套\\n      高層 F室   高層 F室   \n",
       "10002       10002                    \\n      海典居 3座 \\n      中層 A室   中層 A室   \n",
       "10003       10003             \\n      屯門市廣場 2期 2座 2房\\n      中層 F室   中層 F室   \n",
       "10004       10004                \\n      瓏門 1期 5座 2房\\n      高層 K室   高層 K室   \n",
       "\n",
       "           c                                                  d  \\\n",
       "0        屯門南  \\n                20年樓齡\\n               \\n    ...   \n",
       "1         康怡  \\n                34年樓齡\\n               \\n    ...   \n",
       "2        西半山  \\n                8年樓齡\\n               \\n     ...   \n",
       "3         麗城  \\n                30年樓齡\\n               \\n    ...   \n",
       "4         海怡  \\n                26年樓齡\\n               \\n    ...   \n",
       "...      ...                                                ...   \n",
       "10000    元朗站  \\n                27年樓齡\\n               \\n    ...   \n",
       "10001    調景嶺  \\n                19年樓齡\\n               \\n    ...   \n",
       "10002    馬鞍山  \\n                22年樓齡\\n               \\n    ...   \n",
       "10003  屯門市中心  \\n                32年樓齡\\n               \\n    ...   \n",
       "10004  屯門市中心  \\n                8年樓齡\\n               \\n     ...   \n",
       "\n",
       "                                                       e  \\\n",
       "0      \\n                      522呎\\n                ...   \n",
       "1      \\n                      594呎\\n                ...   \n",
       "2      \\n                      1,589呎\\n              ...   \n",
       "3      \\n                      742呎\\n                ...   \n",
       "4      \\n                      516呎\\n                ...   \n",
       "...                                                  ...   \n",
       "10000  \\n                      466呎\\n                ...   \n",
       "10001  \\n                      660呎\\n                ...   \n",
       "10002  \\n                      954呎\\n                ...   \n",
       "10003  \\n                      326呎\\n                ...   \n",
       "10004  \\n                      475呎\\n                ...   \n",
       "\n",
       "                                                       f  \n",
       "0        售 $ 580萬  \\n              月供 $13,750・計算按揭\\n ...  \n",
       "1        售 $ 1,010萬  \\n              月供 $19,953・計算按揭\\...  \n",
       "2        $ 5,300萬 售 $ 4,700萬  \\n              月供 $92,...  \n",
       "3        售 $ 920萬  \\n              月供 $21,810・計算按揭\\n ...  \n",
       "4        售 $ 930萬  \\n              月供 $22,047・計算按揭\\n ...  \n",
       "...                                                  ...  \n",
       "10000    售 $ 685萬  \\n              月供 $16,239・計算按揭\\n ...  \n",
       "10001    售 $ 1,400萬  \\n              月供 $27,658・計算按揭\\...  \n",
       "10002    售 $ 1,530萬  \\n              月供 $30,226・計算按揭\\...  \n",
       "10003    $ 450萬 售 $ 440萬  \\n              月供 $10,431・...  \n",
       "10004    售 $ 700萬  \\n              月供 $16,595・計算按揭\\n ...  \n",
       "\n",
       "[10005 rows x 7 columns]"
      ]
     },
     "execution_count": 33,
     "metadata": {},
     "output_type": "execute_result"
    }
   ],
   "source": [
    "df"
   ]
  },
  {
   "cell_type": "code",
   "execution_count": 34,
   "metadata": {},
   "outputs": [],
   "source": [
    "df['Floor'] = df['b'].str.split(' ').str[0]\n",
    "\n",
    "df['Floor'] = df['Floor'].replace({'高層':'3', '中層':'2', '低層':'1'}, regex = True)"
   ]
  },
  {
   "cell_type": "code",
   "execution_count": 35,
   "metadata": {},
   "outputs": [],
   "source": [
    "df['Building_Year'] = df['d'].str.split('年樓齡').str[0]"
   ]
  },
  {
   "cell_type": "code",
   "execution_count": 36,
   "metadata": {},
   "outputs": [],
   "source": [
    "df['Saleable_Area'] = df['e'].str.split('呎').str[0]"
   ]
  },
  {
   "cell_type": "code",
   "execution_count": 37,
   "metadata": {},
   "outputs": [],
   "source": [
    "df['Flat_Price'] = df['f'].str.split('\\n').str[0]\n",
    "df['Flat_Price'] = df['Flat_Price'].str.split('售').str[1]\n",
    "df['Flat_Price'] = df['Flat_Price'].replace({'\\$':'', '萬':'', ',':''}, regex = True)\n",
    "\n",
    "#Million = \"0000\"\n",
    "#df['Flat_Price'] = [x + Million for x in df['Flat_Price']]"
   ]
  },
  {
   "cell_type": "code",
   "execution_count": 38,
   "metadata": {},
   "outputs": [],
   "source": [
    "df['Number_of_Room'] = df['a'].str.split('房').str[0]\n",
    "df['Number_of_Room'] = df['Number_of_Room'].str.split().str[-1] #room"
   ]
  },
  {
   "cell_type": "code",
   "execution_count": 39,
   "metadata": {},
   "outputs": [],
   "source": [
    "df['Building_Name'] = df['a'].str.split().str[0]"
   ]
  },
  {
   "cell_type": "code",
   "execution_count": 40,
   "metadata": {},
   "outputs": [],
   "source": [
    "df = df.replace({'\\n':'', ',':'', ' ':''}, regex = True)"
   ]
  },
  {
   "cell_type": "code",
   "execution_count": 41,
   "metadata": {},
   "outputs": [],
   "source": [
    "df = df.drop(columns=['Unnamed: 0', 'a', 'b', 'd', 'e', 'f'])"
   ]
  },
  {
   "cell_type": "code",
   "execution_count": 42,
   "metadata": {},
   "outputs": [],
   "source": [
    "df.rename(columns = {'c':'Location'}, inplace = True)"
   ]
  },
  {
   "cell_type": "code",
   "execution_count": 43,
   "metadata": {},
   "outputs": [],
   "source": [
    "df = df.drop(df[df.Number_of_Room.str.contains(r'[a-zA-Z]')].index)"
   ]
  },
  {
   "cell_type": "code",
   "execution_count": 44,
   "metadata": {},
   "outputs": [],
   "source": [
    "#df = df.replace(' ', '')"
   ]
  },
  {
   "cell_type": "code",
   "execution_count": 45,
   "metadata": {},
   "outputs": [],
   "source": [
    "df['Building_Year'] = df['Building_Year'].astype('int')\n",
    "df['Saleable_Area'] = df['Saleable_Area'].astype('int')\n",
    "df['Flat_Price'] = df['Flat_Price'].astype('int')\n",
    "df['Number_of_Room'] = df['Number_of_Room'].astype('int')\n",
    "df['Floor'] = df['Floor'].astype('int')"
   ]
  },
  {
   "cell_type": "code",
   "execution_count": 46,
   "metadata": {},
   "outputs": [
    {
     "data": {
      "text/html": [
       "<div>\n",
       "<style scoped>\n",
       "    .dataframe tbody tr th:only-of-type {\n",
       "        vertical-align: middle;\n",
       "    }\n",
       "\n",
       "    .dataframe tbody tr th {\n",
       "        vertical-align: top;\n",
       "    }\n",
       "\n",
       "    .dataframe thead th {\n",
       "        text-align: right;\n",
       "    }\n",
       "</style>\n",
       "<table border=\"1\" class=\"dataframe\">\n",
       "  <thead>\n",
       "    <tr style=\"text-align: right;\">\n",
       "      <th></th>\n",
       "      <th>Location</th>\n",
       "      <th>Floor</th>\n",
       "      <th>Building_Year</th>\n",
       "      <th>Saleable_Area</th>\n",
       "      <th>Flat_Price</th>\n",
       "      <th>Number_of_Room</th>\n",
       "      <th>Building_Name</th>\n",
       "    </tr>\n",
       "  </thead>\n",
       "  <tbody>\n",
       "    <tr>\n",
       "      <th>0</th>\n",
       "      <td>屯門南</td>\n",
       "      <td>2</td>\n",
       "      <td>20</td>\n",
       "      <td>522</td>\n",
       "      <td>580</td>\n",
       "      <td>2</td>\n",
       "      <td>南浪海灣</td>\n",
       "    </tr>\n",
       "    <tr>\n",
       "      <th>1</th>\n",
       "      <td>康怡</td>\n",
       "      <td>1</td>\n",
       "      <td>34</td>\n",
       "      <td>594</td>\n",
       "      <td>1010</td>\n",
       "      <td>3</td>\n",
       "      <td>康怡花園</td>\n",
       "    </tr>\n",
       "    <tr>\n",
       "      <th>2</th>\n",
       "      <td>西半山</td>\n",
       "      <td>1</td>\n",
       "      <td>8</td>\n",
       "      <td>1589</td>\n",
       "      <td>4700</td>\n",
       "      <td>4</td>\n",
       "      <td>蔚然</td>\n",
       "    </tr>\n",
       "    <tr>\n",
       "      <th>3</th>\n",
       "      <td>麗城</td>\n",
       "      <td>3</td>\n",
       "      <td>30</td>\n",
       "      <td>742</td>\n",
       "      <td>920</td>\n",
       "      <td>4</td>\n",
       "      <td>麗城花園</td>\n",
       "    </tr>\n",
       "    <tr>\n",
       "      <th>4</th>\n",
       "      <td>海怡</td>\n",
       "      <td>3</td>\n",
       "      <td>26</td>\n",
       "      <td>516</td>\n",
       "      <td>930</td>\n",
       "      <td>2</td>\n",
       "      <td>海怡半島</td>\n",
       "    </tr>\n",
       "    <tr>\n",
       "      <th>...</th>\n",
       "      <td>...</td>\n",
       "      <td>...</td>\n",
       "      <td>...</td>\n",
       "      <td>...</td>\n",
       "      <td>...</td>\n",
       "      <td>...</td>\n",
       "      <td>...</td>\n",
       "    </tr>\n",
       "    <tr>\n",
       "      <th>9997</th>\n",
       "      <td>東涌市中心</td>\n",
       "      <td>1</td>\n",
       "      <td>18</td>\n",
       "      <td>485</td>\n",
       "      <td>700</td>\n",
       "      <td>2</td>\n",
       "      <td>藍天海岸</td>\n",
       "    </tr>\n",
       "    <tr>\n",
       "      <th>9999</th>\n",
       "      <td>將軍澳</td>\n",
       "      <td>2</td>\n",
       "      <td>15</td>\n",
       "      <td>436</td>\n",
       "      <td>830</td>\n",
       "      <td>2</td>\n",
       "      <td>君傲灣</td>\n",
       "    </tr>\n",
       "    <tr>\n",
       "      <th>10001</th>\n",
       "      <td>調景嶺</td>\n",
       "      <td>3</td>\n",
       "      <td>19</td>\n",
       "      <td>660</td>\n",
       "      <td>1400</td>\n",
       "      <td>3</td>\n",
       "      <td>維景灣畔</td>\n",
       "    </tr>\n",
       "    <tr>\n",
       "      <th>10003</th>\n",
       "      <td>屯門市中心</td>\n",
       "      <td>2</td>\n",
       "      <td>32</td>\n",
       "      <td>326</td>\n",
       "      <td>440</td>\n",
       "      <td>2</td>\n",
       "      <td>屯門市廣場</td>\n",
       "    </tr>\n",
       "    <tr>\n",
       "      <th>10004</th>\n",
       "      <td>屯門市中心</td>\n",
       "      <td>3</td>\n",
       "      <td>8</td>\n",
       "      <td>475</td>\n",
       "      <td>700</td>\n",
       "      <td>2</td>\n",
       "      <td>瓏門</td>\n",
       "    </tr>\n",
       "  </tbody>\n",
       "</table>\n",
       "<p>8004 rows × 7 columns</p>\n",
       "</div>"
      ],
      "text/plain": [
       "      Location  Floor  Building_Year  Saleable_Area  Flat_Price  \\\n",
       "0          屯門南      2             20            522         580   \n",
       "1           康怡      1             34            594        1010   \n",
       "2          西半山      1              8           1589        4700   \n",
       "3           麗城      3             30            742         920   \n",
       "4           海怡      3             26            516         930   \n",
       "...        ...    ...            ...            ...         ...   \n",
       "9997     東涌市中心      1             18            485         700   \n",
       "9999       將軍澳      2             15            436         830   \n",
       "10001      調景嶺      3             19            660        1400   \n",
       "10003    屯門市中心      2             32            326         440   \n",
       "10004    屯門市中心      3              8            475         700   \n",
       "\n",
       "       Number_of_Room Building_Name  \n",
       "0                   2          南浪海灣  \n",
       "1                   3          康怡花園  \n",
       "2                   4            蔚然  \n",
       "3                   4          麗城花園  \n",
       "4                   2          海怡半島  \n",
       "...               ...           ...  \n",
       "9997                2          藍天海岸  \n",
       "9999                2           君傲灣  \n",
       "10001               3          維景灣畔  \n",
       "10003               2         屯門市廣場  \n",
       "10004               2            瓏門  \n",
       "\n",
       "[8004 rows x 7 columns]"
      ]
     },
     "execution_count": 46,
     "metadata": {},
     "output_type": "execute_result"
    }
   ],
   "source": [
    "df"
   ]
  },
  {
   "cell_type": "code",
   "execution_count": null,
   "metadata": {},
   "outputs": [],
   "source": []
  },
  {
   "cell_type": "code",
   "execution_count": null,
   "metadata": {},
   "outputs": [],
   "source": []
  },
  {
   "cell_type": "code",
   "execution_count": null,
   "metadata": {},
   "outputs": [],
   "source": []
  },
  {
   "cell_type": "code",
   "execution_count": 17,
   "metadata": {},
   "outputs": [
    {
     "data": {
      "text/html": [
       "<div>\n",
       "<style scoped>\n",
       "    .dataframe tbody tr th:only-of-type {\n",
       "        vertical-align: middle;\n",
       "    }\n",
       "\n",
       "    .dataframe tbody tr th {\n",
       "        vertical-align: top;\n",
       "    }\n",
       "\n",
       "    .dataframe thead th {\n",
       "        text-align: right;\n",
       "    }\n",
       "</style>\n",
       "<table border=\"1\" class=\"dataframe\">\n",
       "  <thead>\n",
       "    <tr style=\"text-align: right;\">\n",
       "      <th></th>\n",
       "      <th>Floor</th>\n",
       "      <th>Building_Year</th>\n",
       "      <th>Saleable_Area</th>\n",
       "      <th>Flat_Price</th>\n",
       "      <th>Number_of_Room</th>\n",
       "    </tr>\n",
       "  </thead>\n",
       "  <tbody>\n",
       "    <tr>\n",
       "      <th>count</th>\n",
       "      <td>8004.000000</td>\n",
       "      <td>8004.000000</td>\n",
       "      <td>8004.000000</td>\n",
       "      <td>8004.000000</td>\n",
       "      <td>8004.00000</td>\n",
       "    </tr>\n",
       "    <tr>\n",
       "      <th>mean</th>\n",
       "      <td>2.166667</td>\n",
       "      <td>18.250000</td>\n",
       "      <td>611.500000</td>\n",
       "      <td>1166.250000</td>\n",
       "      <td>2.50000</td>\n",
       "    </tr>\n",
       "    <tr>\n",
       "      <th>std</th>\n",
       "      <td>0.799355</td>\n",
       "      <td>10.175154</td>\n",
       "      <td>311.733152</td>\n",
       "      <td>1092.689584</td>\n",
       "      <td>0.76381</td>\n",
       "    </tr>\n",
       "    <tr>\n",
       "      <th>min</th>\n",
       "      <td>1.000000</td>\n",
       "      <td>3.000000</td>\n",
       "      <td>326.000000</td>\n",
       "      <td>440.000000</td>\n",
       "      <td>2.00000</td>\n",
       "    </tr>\n",
       "    <tr>\n",
       "      <th>25%</th>\n",
       "      <td>1.750000</td>\n",
       "      <td>8.000000</td>\n",
       "      <td>482.500000</td>\n",
       "      <td>700.000000</td>\n",
       "      <td>2.00000</td>\n",
       "    </tr>\n",
       "    <tr>\n",
       "      <th>50%</th>\n",
       "      <td>2.000000</td>\n",
       "      <td>18.500000</td>\n",
       "      <td>512.000000</td>\n",
       "      <td>875.000000</td>\n",
       "      <td>2.00000</td>\n",
       "    </tr>\n",
       "    <tr>\n",
       "      <th>75%</th>\n",
       "      <td>3.000000</td>\n",
       "      <td>27.000000</td>\n",
       "      <td>610.500000</td>\n",
       "      <td>1028.750000</td>\n",
       "      <td>3.00000</td>\n",
       "    </tr>\n",
       "    <tr>\n",
       "      <th>max</th>\n",
       "      <td>3.000000</td>\n",
       "      <td>34.000000</td>\n",
       "      <td>1589.000000</td>\n",
       "      <td>4700.000000</td>\n",
       "      <td>4.00000</td>\n",
       "    </tr>\n",
       "  </tbody>\n",
       "</table>\n",
       "</div>"
      ],
      "text/plain": [
       "             Floor  Building_Year  Saleable_Area   Flat_Price  Number_of_Room\n",
       "count  8004.000000    8004.000000    8004.000000  8004.000000      8004.00000\n",
       "mean      2.166667      18.250000     611.500000  1166.250000         2.50000\n",
       "std       0.799355      10.175154     311.733152  1092.689584         0.76381\n",
       "min       1.000000       3.000000     326.000000   440.000000         2.00000\n",
       "25%       1.750000       8.000000     482.500000   700.000000         2.00000\n",
       "50%       2.000000      18.500000     512.000000   875.000000         2.00000\n",
       "75%       3.000000      27.000000     610.500000  1028.750000         3.00000\n",
       "max       3.000000      34.000000    1589.000000  4700.000000         4.00000"
      ]
     },
     "execution_count": 17,
     "metadata": {},
     "output_type": "execute_result"
    }
   ],
   "source": [
    "df.describe()"
   ]
  },
  {
   "cell_type": "code",
   "execution_count": 18,
   "metadata": {},
   "outputs": [
    {
     "data": {
      "image/png": "[encoded data removed]",
      "text/plain": [
       "<Figure size 432x288 with 2 Axes>"
      ]
     },
     "metadata": {
      "needs_background": "light"
     },
     "output_type": "display_data"
    }
   ],
   "source": [
    "import seaborn as sb\n",
    "from matplotlib import pyplot as plt\n",
    "\n",
    "sb.heatmap(df.corr(), annot = True, cmap = 'magma')\n",
    "\n",
    "plt.show()"
   ]
  },
  {
   "cell_type": "code",
   "execution_count": 19,
   "metadata": {},
   "outputs": [],
   "source": [
    "import numpy as np\n",
    "\n",
    "import pandas as pd\n",
    "from pandas.api.types import CategoricalDtype\n",
    "\n",
    "%matplotlib inline\n",
    "import matplotlib.pyplot as plt\n",
    "import seaborn as sns\n",
    "\n",
    "from sklearn import linear_model as lm\n",
    "from sklearn.model_selection import train_test_split\n",
    "from sklearn.model_selection import KFold"
   ]
  },
  {
   "cell_type": "code",
   "execution_count": 20,
   "metadata": {},
   "outputs": [
    {
     "name": "stdout",
     "output_type": "stream",
     "text": [
      "Skewness: 2.759203\n",
      "Kurtosis: 6.155072\n"
     ]
    },
    {
     "data": {
      "image/png": "[encoded data removed]",
      "text/plain": [
       "<Figure size 432x288 with 1 Axes>"
      ]
     },
     "metadata": {
      "needs_background": "light"
     },
     "output_type": "display_data"
    }
   ],
   "source": [
    "sns.distplot(df['Flat_Price'])\n",
    "\n",
    "print(\"Skewness: %f\" % df['Flat_Price'].skew())\n",
    "print(\"Kurtosis: %f\" % df['Flat_Price'].kurt())"
   ]
  },
  {
   "cell_type": "code",
   "execution_count": 47,
   "metadata": {},
   "outputs": [],
   "source": [
    "from sklearn import preprocessing\n",
    "from sklearn import linear_model, svm, gaussian_process\n",
    "from sklearn.ensemble import RandomForestRegressor\n",
    "from sklearn.model_selection import train_test_split\n",
    "import numpy as np"
   ]
  },
  {
   "cell_type": "code",
   "execution_count": null,
   "metadata": {
    "scrolled": true
   },
   "outputs": [],
   "source": [
    "from sklearn import metrics\n",
    "cols = ['Number_of_Room','Saleable_Area', 'Building_Year','Floor']\n",
    "x = df[cols].values\n",
    "y = df['Flat_Price'].values\n",
    "X_train,X_test, y_train, y_test = train_test_split(x, y, test_size=0.33, random_state=42)\n",
    "\n",
    "clf = RandomForestRegressor(n_estimators=400)\n",
    "clf.fit(X_train, y_train)\n",
    "y_pred = clf.predict(X_test)\n",
    "\n",
    "print(metrics.mean_squared_error(y_test,y_pred))"
   ]
  },
  {
   "cell_type": "code",
   "execution_count": null,
   "metadata": {},
   "outputs": [],
   "source": [
    "cols = ['Number_of_Room','Saleable_Area', 'Building_Year','Floor']\n",
    "x_test_value= df[cols].values\n",
    "test_pre=clf.predict(x_test_value)\n",
    "\n",
    "prediction = pd.DataFrame(test_pre, columns=['Flat_Price'])\n",
    "result = pd.concat([df2['Unnamed: 0'], prediction], axis=1)\n",
    "result"
   ]
  }
 ],
 "metadata": {
  "kernelspec": {
   "display_name": "Python 3",
   "language": "python",
   "name": "python3"
  },
  "language_info": {
   "codemirror_mode": {
    "name": "ipython",
    "version": 3
   },
   "file_extension": ".py",
   "mimetype": "text/x-python",
   "name": "python",
   "nbconvert_exporter": "python",
   "pygments_lexer": "ipython3",
   "version": "3.8.3"
  }
 },
 "nbformat": 4,
 "nbformat_minor": 4
}
